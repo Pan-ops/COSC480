{
 "cells": [
  {
   "cell_type": "code",
   "execution_count": 7,
   "metadata": {},
   "outputs": [],
   "source": [
    "import pandas as pd\n",
    "import matplotlib.pyplot as plt\n",
    "import numpy as np\n",
    "from datetime import datetime"
   ]
  },
  {
   "cell_type": "code",
   "execution_count": 24,
   "metadata": {},
   "outputs": [],
   "source": [
    "NZ_index  = pd.read_csv(\"NZ 50GR.csv\",index_col = 0, parse_dates = True)"
   ]
  },
  {
   "cell_type": "code",
   "execution_count": 25,
   "metadata": {},
   "outputs": [
    {
     "data": {
      "text/html": [
       "<div>\n",
       "<style scoped>\n",
       "    .dataframe tbody tr th:only-of-type {\n",
       "        vertical-align: middle;\n",
       "    }\n",
       "\n",
       "    .dataframe tbody tr th {\n",
       "        vertical-align: top;\n",
       "    }\n",
       "\n",
       "    .dataframe thead th {\n",
       "        text-align: right;\n",
       "    }\n",
       "</style>\n",
       "<table border=\"1\" class=\"dataframe\">\n",
       "  <thead>\n",
       "    <tr style=\"text-align: right;\">\n",
       "      <th></th>\n",
       "      <th>Open</th>\n",
       "      <th>High</th>\n",
       "      <th>Low</th>\n",
       "      <th>Close</th>\n",
       "    </tr>\n",
       "    <tr>\n",
       "      <th>Date</th>\n",
       "      <th></th>\n",
       "      <th></th>\n",
       "      <th></th>\n",
       "      <th></th>\n",
       "    </tr>\n",
       "  </thead>\n",
       "  <tbody>\n",
       "    <tr>\n",
       "      <th>2021-04-30</th>\n",
       "      <td>12715.20</td>\n",
       "      <td>12758.18</td>\n",
       "      <td>12661.10</td>\n",
       "      <td>12731.13</td>\n",
       "    </tr>\n",
       "    <tr>\n",
       "      <th>2021-04-29</th>\n",
       "      <td>12646.14</td>\n",
       "      <td>12719.52</td>\n",
       "      <td>12646.14</td>\n",
       "      <td>12715.20</td>\n",
       "    </tr>\n",
       "    <tr>\n",
       "      <th>2021-04-28</th>\n",
       "      <td>12620.52</td>\n",
       "      <td>12664.42</td>\n",
       "      <td>12598.03</td>\n",
       "      <td>12646.14</td>\n",
       "    </tr>\n",
       "    <tr>\n",
       "      <th>2021-04-27</th>\n",
       "      <td>12650.64</td>\n",
       "      <td>12693.15</td>\n",
       "      <td>12592.77</td>\n",
       "      <td>12620.52</td>\n",
       "    </tr>\n",
       "    <tr>\n",
       "      <th>2021-04-23</th>\n",
       "      <td>12577.48</td>\n",
       "      <td>12650.64</td>\n",
       "      <td>12550.92</td>\n",
       "      <td>12650.64</td>\n",
       "    </tr>\n",
       "    <tr>\n",
       "      <th>...</th>\n",
       "      <td>...</td>\n",
       "      <td>...</td>\n",
       "      <td>...</td>\n",
       "      <td>...</td>\n",
       "    </tr>\n",
       "    <tr>\n",
       "      <th>2020-01-09</th>\n",
       "      <td>11556.98</td>\n",
       "      <td>11603.64</td>\n",
       "      <td>11536.86</td>\n",
       "      <td>11537.68</td>\n",
       "    </tr>\n",
       "    <tr>\n",
       "      <th>2020-01-08</th>\n",
       "      <td>11629.86</td>\n",
       "      <td>11629.86</td>\n",
       "      <td>11489.05</td>\n",
       "      <td>11556.98</td>\n",
       "    </tr>\n",
       "    <tr>\n",
       "      <th>2020-01-07</th>\n",
       "      <td>11627.32</td>\n",
       "      <td>11631.18</td>\n",
       "      <td>11578.46</td>\n",
       "      <td>11629.86</td>\n",
       "    </tr>\n",
       "    <tr>\n",
       "      <th>2020-01-06</th>\n",
       "      <td>11594.28</td>\n",
       "      <td>11627.32</td>\n",
       "      <td>11506.54</td>\n",
       "      <td>11627.32</td>\n",
       "    </tr>\n",
       "    <tr>\n",
       "      <th>2020-01-03</th>\n",
       "      <td>11556.45</td>\n",
       "      <td>11593.14</td>\n",
       "      <td>11491.90</td>\n",
       "      <td>11593.14</td>\n",
       "    </tr>\n",
       "  </tbody>\n",
       "</table>\n",
       "<p>332 rows × 4 columns</p>\n",
       "</div>"
      ],
      "text/plain": [
       "                Open      High       Low     Close\n",
       "Date                                              \n",
       "2021-04-30  12715.20  12758.18  12661.10  12731.13\n",
       "2021-04-29  12646.14  12719.52  12646.14  12715.20\n",
       "2021-04-28  12620.52  12664.42  12598.03  12646.14\n",
       "2021-04-27  12650.64  12693.15  12592.77  12620.52\n",
       "2021-04-23  12577.48  12650.64  12550.92  12650.64\n",
       "...              ...       ...       ...       ...\n",
       "2020-01-09  11556.98  11603.64  11536.86  11537.68\n",
       "2020-01-08  11629.86  11629.86  11489.05  11556.98\n",
       "2020-01-07  11627.32  11631.18  11578.46  11629.86\n",
       "2020-01-06  11594.28  11627.32  11506.54  11627.32\n",
       "2020-01-03  11556.45  11593.14  11491.90  11593.14\n",
       "\n",
       "[332 rows x 4 columns]"
      ]
     },
     "execution_count": 25,
     "metadata": {},
     "output_type": "execute_result"
    }
   ],
   "source": [
    "NZ_index"
   ]
  },
  {
   "cell_type": "code",
   "execution_count": 26,
   "metadata": {},
   "outputs": [],
   "source": [
    "US_index = pd.read_csv('US Down Jones index.csv',index_col = 0, parse_dates = True)"
   ]
  },
  {
   "cell_type": "code",
   "execution_count": 27,
   "metadata": {},
   "outputs": [
    {
     "data": {
      "text/html": [
       "<div>\n",
       "<style scoped>\n",
       "    .dataframe tbody tr th:only-of-type {\n",
       "        vertical-align: middle;\n",
       "    }\n",
       "\n",
       "    .dataframe tbody tr th {\n",
       "        vertical-align: top;\n",
       "    }\n",
       "\n",
       "    .dataframe thead th {\n",
       "        text-align: right;\n",
       "    }\n",
       "</style>\n",
       "<table border=\"1\" class=\"dataframe\">\n",
       "  <thead>\n",
       "    <tr style=\"text-align: right;\">\n",
       "      <th></th>\n",
       "      <th>Open</th>\n",
       "      <th>High</th>\n",
       "      <th>Low</th>\n",
       "      <th>Close</th>\n",
       "    </tr>\n",
       "    <tr>\n",
       "      <th>Date</th>\n",
       "      <th></th>\n",
       "      <th></th>\n",
       "      <th></th>\n",
       "      <th></th>\n",
       "    </tr>\n",
       "  </thead>\n",
       "  <tbody>\n",
       "    <tr>\n",
       "      <th>2021-04-30</th>\n",
       "      <td>43774.66</td>\n",
       "      <td>43919.18</td>\n",
       "      <td>43635.78</td>\n",
       "      <td>43703.56</td>\n",
       "    </tr>\n",
       "    <tr>\n",
       "      <th>2021-04-29</th>\n",
       "      <td>44188.20</td>\n",
       "      <td>44204.28</td>\n",
       "      <td>43695.30</td>\n",
       "      <td>44054.28</td>\n",
       "    </tr>\n",
       "    <tr>\n",
       "      <th>2021-04-28</th>\n",
       "      <td>43910.91</td>\n",
       "      <td>44031.93</td>\n",
       "      <td>43833.45</td>\n",
       "      <td>43853.43</td>\n",
       "    </tr>\n",
       "    <tr>\n",
       "      <th>2021-04-27</th>\n",
       "      <td>43939.24</td>\n",
       "      <td>43953.50</td>\n",
       "      <td>43780.18</td>\n",
       "      <td>43888.83</td>\n",
       "    </tr>\n",
       "    <tr>\n",
       "      <th>2021-04-26</th>\n",
       "      <td>43857.89</td>\n",
       "      <td>43959.73</td>\n",
       "      <td>43800.94</td>\n",
       "      <td>43893.23</td>\n",
       "    </tr>\n",
       "    <tr>\n",
       "      <th>...</th>\n",
       "      <td>...</td>\n",
       "      <td>...</td>\n",
       "      <td>...</td>\n",
       "      <td>...</td>\n",
       "    </tr>\n",
       "    <tr>\n",
       "      <th>2020-01-08</th>\n",
       "      <td>33104.73</td>\n",
       "      <td>33390.83</td>\n",
       "      <td>33092.91</td>\n",
       "      <td>33251.94</td>\n",
       "    </tr>\n",
       "    <tr>\n",
       "      <th>2020-01-07</th>\n",
       "      <td>33136.18</td>\n",
       "      <td>33171.95</td>\n",
       "      <td>33043.73</td>\n",
       "      <td>33097.13</td>\n",
       "    </tr>\n",
       "    <tr>\n",
       "      <th>2020-01-06</th>\n",
       "      <td>32873.56</td>\n",
       "      <td>33186.57</td>\n",
       "      <td>32861.94</td>\n",
       "      <td>33183.17</td>\n",
       "    </tr>\n",
       "    <tr>\n",
       "      <th>2020-01-03</th>\n",
       "      <td>32946.89</td>\n",
       "      <td>33178.14</td>\n",
       "      <td>32928.98</td>\n",
       "      <td>33072.84</td>\n",
       "    </tr>\n",
       "    <tr>\n",
       "      <th>2020-01-02</th>\n",
       "      <td>33189.80</td>\n",
       "      <td>33283.73</td>\n",
       "      <td>33051.72</td>\n",
       "      <td>33282.12</td>\n",
       "    </tr>\n",
       "  </tbody>\n",
       "</table>\n",
       "<p>336 rows × 4 columns</p>\n",
       "</div>"
      ],
      "text/plain": [
       "                Open      High       Low     Close\n",
       "Date                                              \n",
       "2021-04-30  43774.66  43919.18  43635.78  43703.56\n",
       "2021-04-29  44188.20  44204.28  43695.30  44054.28\n",
       "2021-04-28  43910.91  44031.93  43833.45  43853.43\n",
       "2021-04-27  43939.24  43953.50  43780.18  43888.83\n",
       "2021-04-26  43857.89  43959.73  43800.94  43893.23\n",
       "...              ...       ...       ...       ...\n",
       "2020-01-08  33104.73  33390.83  33092.91  33251.94\n",
       "2020-01-07  33136.18  33171.95  33043.73  33097.13\n",
       "2020-01-06  32873.56  33186.57  32861.94  33183.17\n",
       "2020-01-03  32946.89  33178.14  32928.98  33072.84\n",
       "2020-01-02  33189.80  33283.73  33051.72  33282.12\n",
       "\n",
       "[336 rows x 4 columns]"
      ]
     },
     "execution_count": 27,
     "metadata": {},
     "output_type": "execute_result"
    }
   ],
   "source": [
    "US_index"
   ]
  },
  {
   "cell_type": "code",
   "execution_count": 14,
   "metadata": {},
   "outputs": [],
   "source": [
    "China_index = pd.read_csv('China Shanghai composite index.csv', index_col = 0, parse_dates = True)"
   ]
  },
  {
   "cell_type": "code",
   "execution_count": 15,
   "metadata": {},
   "outputs": [
    {
     "data": {
      "text/html": [
       "<div>\n",
       "<style scoped>\n",
       "    .dataframe tbody tr th:only-of-type {\n",
       "        vertical-align: middle;\n",
       "    }\n",
       "\n",
       "    .dataframe tbody tr th {\n",
       "        vertical-align: top;\n",
       "    }\n",
       "\n",
       "    .dataframe thead th {\n",
       "        text-align: right;\n",
       "    }\n",
       "</style>\n",
       "<table border=\"1\" class=\"dataframe\">\n",
       "  <thead>\n",
       "    <tr style=\"text-align: right;\">\n",
       "      <th></th>\n",
       "      <th>Open</th>\n",
       "      <th>High</th>\n",
       "      <th>Low</th>\n",
       "      <th>Close</th>\n",
       "    </tr>\n",
       "    <tr>\n",
       "      <th>Date</th>\n",
       "      <th></th>\n",
       "      <th></th>\n",
       "      <th></th>\n",
       "      <th></th>\n",
       "    </tr>\n",
       "  </thead>\n",
       "  <tbody>\n",
       "    <tr>\n",
       "      <th>2021-04-30</th>\n",
       "      <td>3468.30</td>\n",
       "      <td>3469.09</td>\n",
       "      <td>3426.90</td>\n",
       "      <td>3446.86</td>\n",
       "    </tr>\n",
       "    <tr>\n",
       "      <th>2021-04-29</th>\n",
       "      <td>3458.08</td>\n",
       "      <td>3478.23</td>\n",
       "      <td>3447.59</td>\n",
       "      <td>3474.90</td>\n",
       "    </tr>\n",
       "    <tr>\n",
       "      <th>2021-04-28</th>\n",
       "      <td>3432.16</td>\n",
       "      <td>3457.07</td>\n",
       "      <td>3423.32</td>\n",
       "      <td>3457.07</td>\n",
       "    </tr>\n",
       "    <tr>\n",
       "      <th>2021-04-27</th>\n",
       "      <td>3440.09</td>\n",
       "      <td>3443.85</td>\n",
       "      <td>3417.26</td>\n",
       "      <td>3442.61</td>\n",
       "    </tr>\n",
       "    <tr>\n",
       "      <th>2021-04-26</th>\n",
       "      <td>3484.11</td>\n",
       "      <td>3497.12</td>\n",
       "      <td>3438.57</td>\n",
       "      <td>3441.17</td>\n",
       "    </tr>\n",
       "    <tr>\n",
       "      <th>...</th>\n",
       "      <td>...</td>\n",
       "      <td>...</td>\n",
       "      <td>...</td>\n",
       "      <td>...</td>\n",
       "    </tr>\n",
       "    <tr>\n",
       "      <th>2020-01-08</th>\n",
       "      <td>3094.24</td>\n",
       "      <td>3094.24</td>\n",
       "      <td>3059.13</td>\n",
       "      <td>3066.89</td>\n",
       "    </tr>\n",
       "    <tr>\n",
       "      <th>2020-01-07</th>\n",
       "      <td>3085.49</td>\n",
       "      <td>3105.45</td>\n",
       "      <td>3084.33</td>\n",
       "      <td>3104.80</td>\n",
       "    </tr>\n",
       "    <tr>\n",
       "      <th>2020-01-06</th>\n",
       "      <td>3070.91</td>\n",
       "      <td>3107.20</td>\n",
       "      <td>3065.31</td>\n",
       "      <td>3083.41</td>\n",
       "    </tr>\n",
       "    <tr>\n",
       "      <th>2020-01-03</th>\n",
       "      <td>3089.02</td>\n",
       "      <td>3093.82</td>\n",
       "      <td>3074.52</td>\n",
       "      <td>3083.79</td>\n",
       "    </tr>\n",
       "    <tr>\n",
       "      <th>2020-01-02</th>\n",
       "      <td>3066.34</td>\n",
       "      <td>3098.10</td>\n",
       "      <td>3066.34</td>\n",
       "      <td>3085.20</td>\n",
       "    </tr>\n",
       "  </tbody>\n",
       "</table>\n",
       "<p>322 rows × 4 columns</p>\n",
       "</div>"
      ],
      "text/plain": [
       "               Open     High      Low    Close\n",
       "Date                                          \n",
       "2021-04-30  3468.30  3469.09  3426.90  3446.86\n",
       "2021-04-29  3458.08  3478.23  3447.59  3474.90\n",
       "2021-04-28  3432.16  3457.07  3423.32  3457.07\n",
       "2021-04-27  3440.09  3443.85  3417.26  3442.61\n",
       "2021-04-26  3484.11  3497.12  3438.57  3441.17\n",
       "...             ...      ...      ...      ...\n",
       "2020-01-08  3094.24  3094.24  3059.13  3066.89\n",
       "2020-01-07  3085.49  3105.45  3084.33  3104.80\n",
       "2020-01-06  3070.91  3107.20  3065.31  3083.41\n",
       "2020-01-03  3089.02  3093.82  3074.52  3083.79\n",
       "2020-01-02  3066.34  3098.10  3066.34  3085.20\n",
       "\n",
       "[322 rows x 4 columns]"
      ]
     },
     "execution_count": 15,
     "metadata": {},
     "output_type": "execute_result"
    }
   ],
   "source": [
    "China_index"
   ]
  },
  {
   "cell_type": "code",
   "execution_count": 33,
   "metadata": {},
   "outputs": [
    {
     "data": {
      "text/plain": [
       "<AxesSubplot:xlabel='Date'>"
      ]
     },
     "execution_count": 33,
     "metadata": {},
     "output_type": "execute_result"
    },
    {
     "data": {
      "image/png": "[encoded data removed]",
      "text/plain": [
       "<Figure size 432x288 with 1 Axes>"
      ]
     },
     "metadata": {
      "needs_background": "light"
     },
     "output_type": "display_data"
    }
   ],
   "source": [
    "fig = plt.figure()\n",
    "ax = fig.add_subplot(1,1,1)\n",
    "US_close = US_index[\" Close\"]\n",
    "US_close.plot(ax = ax, style = 'k-')"
   ]
  },
  {
   "cell_type": "code",
   "execution_count": 34,
   "metadata": {},
   "outputs": [
    {
     "data": {
      "text/plain": [
       "<AxesSubplot:xlabel='Date'>"
      ]
     },
     "execution_count": 34,
     "metadata": {},
     "output_type": "execute_result"
    },
    {
     "data": {
      "image/png": "[encoded data removed]",
      "text/plain": [
       "<Figure size 432x288 with 1 Axes>"
      ]
     },
     "metadata": {
      "needs_background": "light"
     },
     "output_type": "display_data"
    }
   ],
   "source": [
    "fig = plt.figure()\n",
    "ax = fig.add_subplot(1,1,1)\n",
    "NZ_close = NZ_index[\" Close\"]\n",
    "NZ_close.plot(ax = ax, style = 'k-')"
   ]
  },
  {
   "cell_type": "code",
   "execution_count": 35,
   "metadata": {},
   "outputs": [
    {
     "data": {
      "text/plain": [
       "<AxesSubplot:xlabel='Date'>"
      ]
     },
     "execution_count": 35,
     "metadata": {},
     "output_type": "execute_result"
    },
    {
     "data": {
      "image/png": "[encoded data removed]",
      "text/plain": [
       "<Figure size 432x288 with 1 Axes>"
      ]
     },
     "metadata": {
      "needs_background": "light"
     },
     "output_type": "display_data"
    }
   ],
   "source": [
    "fig = plt.figure()\n",
    "ax = fig.add_subplot(1,1,1)\n",
    "China_close = China_index[\" Close\"]\n",
    "China_close.plot(ax = ax, style = 'k-')"
   ]
  },
  {
   "cell_type": "code",
   "execution_count": null,
   "metadata": {},
   "outputs": [],
   "source": []
  }
 ],
 "metadata": {
  "kernelspec": {
   "display_name": "Python 3",
   "language": "python",
   "name": "python3"
  },
  "language_info": {
   "codemirror_mode": {
    "name": "ipython",
    "version": 3
   },
   "file_extension": ".py",
   "mimetype": "text/x-python",
   "name": "python",
   "nbconvert_exporter": "python",
   "pygments_lexer": "ipython3",
   "version": "3.8.5"
  }
 },
 "nbformat": 4,
 "nbformat_minor": 4
}
